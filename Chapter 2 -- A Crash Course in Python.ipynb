{
 "metadata": {
  "name": "Chapter 2 -- A Crash Course in Python"
 },
 "nbformat": 3,
 "nbformat_minor": 0,
 "worksheets": [
  {
   "cells": [
    {
     "cell_type": "code",
     "collapsed": false,
     "input": "#Functions",
     "language": "python",
     "metadata": {},
     "outputs": [],
     "prompt_number": 2
    },
    {
     "cell_type": "code",
     "collapsed": false,
     "input": "def double(x):\n    return x*2\n\n",
     "language": "python",
     "metadata": {},
     "outputs": [],
     "prompt_number": 4
    },
    {
     "cell_type": "code",
     "collapsed": false,
     "input": "double(445)\n",
     "language": "python",
     "metadata": {},
     "outputs": [
      {
       "metadata": {},
       "output_type": "pyout",
       "prompt_number": 7,
       "text": "890"
      }
     ],
     "prompt_number": 7
    },
    {
     "cell_type": "code",
     "collapsed": false,
     "input": "print double(445)",
     "language": "python",
     "metadata": {},
     "outputs": [
      {
       "output_type": "stream",
       "stream": "stdout",
       "text": "890\n"
      }
     ],
     "prompt_number": 8
    },
    {
     "cell_type": "code",
     "collapsed": false,
     "input": "def apply_to_one(f):\n    \"\"\"calls the function f with 1 as its argument\"\"\"\n    return f(1)\n\nmy_double = double # refers to the previously defined function\nx = apply_to_one(my_double) # equals 2",
     "language": "python",
     "metadata": {},
     "outputs": [],
     "prompt_number": 11
    },
    {
     "cell_type": "code",
     "collapsed": false,
     "input": "print x",
     "language": "python",
     "metadata": {},
     "outputs": [
      {
       "output_type": "stream",
       "stream": "stdout",
       "text": "2\n"
      }
     ],
     "prompt_number": 13
    },
    {
     "cell_type": "code",
     "collapsed": false,
     "input": "y = apply_to_one(lambda x: x + 4) # equals 5",
     "language": "python",
     "metadata": {},
     "outputs": [],
     "prompt_number": 15
    },
    {
     "cell_type": "code",
     "collapsed": false,
     "input": "y",
     "language": "python",
     "metadata": {},
     "outputs": [
      {
       "metadata": {},
       "output_type": "pyout",
       "prompt_number": 16,
       "text": "5"
      }
     ],
     "prompt_number": 16
    },
    {
     "cell_type": "code",
     "collapsed": false,
     "input": "another_double = lambda x: 2 * x # don't do this\ndef another_double(x): return 2 * x # do this instead",
     "language": "python",
     "metadata": {},
     "outputs": [],
     "prompt_number": 17
    },
    {
     "cell_type": "code",
     "collapsed": false,
     "input": "def my_print(message=\"my default message\"):\n    print message\nmy_print(\"hello\") # prints 'hello'\nmy_print() # prints 'my default message'",
     "language": "python",
     "metadata": {},
     "outputs": [
      {
       "output_type": "stream",
       "stream": "stdout",
       "text": "hello\nmy default message\n"
      }
     ],
     "prompt_number": 19
    },
    {
     "cell_type": "code",
     "collapsed": false,
     "input": "def subtract(a=0, b=0):\n    return a - b\nsubtract(10, 5) # returns 5\nsubtract(0, 5) # returns -5\nsubtract(b=5) # same as previous",
     "language": "python",
     "metadata": {},
     "outputs": [
      {
       "metadata": {},
       "output_type": "pyout",
       "prompt_number": 20,
       "text": "-5"
      }
     ],
     "prompt_number": 20
    },
    {
     "cell_type": "code",
     "collapsed": false,
     "input": "#Strings",
     "language": "python",
     "metadata": {},
     "outputs": [],
     "prompt_number": 22
    },
    {
     "cell_type": "code",
     "collapsed": false,
     "input": "single_quoted_string = 'data science'\ndouble_quoted_string = \"data science\"",
     "language": "python",
     "metadata": {},
     "outputs": [],
     "prompt_number": 23
    },
    {
     "cell_type": "code",
     "collapsed": false,
     "input": "tab_string = \"\\t\" # represents the tab character\nlen(tab_string) # is 1",
     "language": "python",
     "metadata": {},
     "outputs": [
      {
       "metadata": {},
       "output_type": "pyout",
       "prompt_number": 24,
       "text": "1"
      }
     ],
     "prompt_number": 24
    },
    {
     "cell_type": "code",
     "collapsed": false,
     "input": "not_tab_string = r\"\\t\" # represents the characters '\\' and 't'\nlen(not_tab_string) # is 2",
     "language": "python",
     "metadata": {},
     "outputs": [
      {
       "metadata": {},
       "output_type": "pyout",
       "prompt_number": 25,
       "text": "2"
      }
     ],
     "prompt_number": 25
    },
    {
     "cell_type": "code",
     "collapsed": false,
     "input": "multi_line_string = \"\"\"This is the first line.\nand this is the second line\nand this is the third line\"\"\"",
     "language": "python",
     "metadata": {},
     "outputs": [],
     "prompt_number": 26
    },
    {
     "cell_type": "code",
     "collapsed": false,
     "input": "#Exceptions",
     "language": "python",
     "metadata": {},
     "outputs": [],
     "prompt_number": 27
    },
    {
     "cell_type": "code",
     "collapsed": false,
     "input": "try:\n    print 0 / 0\nexcept ZeroDivisionError:\n    print \"cannot divide by zero\"",
     "language": "python",
     "metadata": {},
     "outputs": [
      {
       "output_type": "stream",
       "stream": "stdout",
       "text": "cannot divide by zero\n"
      }
     ],
     "prompt_number": 29
    },
    {
     "cell_type": "code",
     "collapsed": false,
     "input": "#Lists\n'''\nProbably the most fundamental data structure in Python is the list. A list is simply an\nordered collection. (It is similar to what in other languages might be called an array, but\nwith some added functionality.)\n'''",
     "language": "python",
     "metadata": {},
     "outputs": [
      {
       "metadata": {},
       "output_type": "pyout",
       "prompt_number": 31,
       "text": "'\\nProbably the most fundamental data structure in Python is the list. A list is simply an\\nordered collection. (It is similar to what in other languages might be called an array, but\\nwith some added functionality.)\\n'"
      }
     ],
     "prompt_number": 31
    },
    {
     "cell_type": "code",
     "collapsed": false,
     "input": "integer_list=[1,2,3]\nheterogeneous_list = [\"string\", 0.1, True]\nlist_of_lists = [ integer_list, heterogeneous_list, [] ]\nlist_length = len(integer_list) # equals 3\nlist_sum = sum(integer_list) # equals 6",
     "language": "python",
     "metadata": {},
     "outputs": [],
     "prompt_number": 33
    },
    {
     "cell_type": "code",
     "collapsed": false,
     "input": "print list_of_lists\nprint list_length\nprint list_sum",
     "language": "python",
     "metadata": {},
     "outputs": [
      {
       "output_type": "stream",
       "stream": "stdout",
       "text": "[[1, 2, 3], ['string', 0.1, True], []]\n3\n6\n"
      }
     ],
     "prompt_number": 39
    },
    {
     "cell_type": "code",
     "collapsed": false,
     "input": "x = range(10) # is the list [0, 1, ..., 9]\nzero = x[0] # equals 0, lists are 0-indexed\none = x[1] # equals 1\nnine = x[-1] # equals 9, 'Pythonic' for last element\neight = x[-2] # equals 8, 'Pythonic' for next-to-last element\nx[0] = -1 # now x is [-1, 1, 2, 3, ..., 9]",
     "language": "python",
     "metadata": {},
     "outputs": [],
     "prompt_number": 42
    },
    {
     "cell_type": "code",
     "collapsed": false,
     "input": "'''You can get or set the nth element of a list with square brackets:'''",
     "language": "python",
     "metadata": {},
     "outputs": [
      {
       "metadata": {},
       "output_type": "pyout",
       "prompt_number": 45,
       "text": "'You can get or set the nth element of a list with square brackets:'"
      }
     ],
     "prompt_number": 45
    },
    {
     "cell_type": "code",
     "collapsed": false,
     "input": "print x;print zero;print one;print nine;print eight; print x[0]",
     "language": "python",
     "metadata": {},
     "outputs": [
      {
       "output_type": "stream",
       "stream": "stdout",
       "text": "[-1, 1, 2, 3, 4, 5, 6, 7, 8, 9]\n0\n1\n9\n8\n-1\n"
      }
     ],
     "prompt_number": 46
    },
    {
     "cell_type": "code",
     "collapsed": false,
     "input": "#You can also use square brackets to \u201cslice\u201d lists:\nfirst_three = x[:3] # [-1, 1, 2]\nthree_to_end = x[3:] # [3, 4, 5, 6, 7, 8, 9]\none_to_four = x[1:5] # [1, 2, 3, 4]\nlast_three = x[-3:] # [7, 8, 9]\nwithout_first_and_last = x[1:-1] # [1, 2, ..., 8]\ncopy_of_x = x[:] # [-1, 1, 2, ..., 9]",
     "language": "python",
     "metadata": {},
     "outputs": [],
     "prompt_number": 50
    },
    {
     "cell_type": "code",
     "collapsed": false,
     "input": "print first_three; print three_to_end;",
     "language": "python",
     "metadata": {},
     "outputs": [
      {
       "output_type": "stream",
       "stream": "stdout",
       "text": "[-1, 1, 2]\n[3, 4, 5, 6, 7, 8, 9]\n"
      }
     ],
     "prompt_number": 49
    },
    {
     "cell_type": "code",
     "collapsed": false,
     "input": "1 in [1, 2, 3] # True;\n0 in [1, 2, 3] # False",
     "language": "python",
     "metadata": {},
     "outputs": [
      {
       "metadata": {},
       "output_type": "pyout",
       "prompt_number": 52,
       "text": "False"
      }
     ],
     "prompt_number": 52
    },
    {
     "cell_type": "code",
     "collapsed": false,
     "input": "x = [1, 2, 3]\nx.extend([4, 5, 6]) # x is now [1,2,3,4,5,6]\nx",
     "language": "python",
     "metadata": {},
     "outputs": [
      {
       "metadata": {},
       "output_type": "pyout",
       "prompt_number": 53,
       "text": "[1, 2, 3, 4, 5, 6]"
      }
     ],
     "prompt_number": 53
    },
    {
     "cell_type": "code",
     "collapsed": false,
     "input": "x = [1, 2, 3]\nx.append(0) # x is now [1, 2, 3, 0]\ny = x[-1] # equals 0\nz = len(x) # equals 4",
     "language": "python",
     "metadata": {},
     "outputs": [],
     "prompt_number": 54
    },
    {
     "cell_type": "code",
     "collapsed": false,
     "input": "x, y = [1, 2] # now x is 1, y is 2",
     "language": "python",
     "metadata": {},
     "outputs": [],
     "prompt_number": 55
    },
    {
     "cell_type": "code",
     "collapsed": false,
     "input": "print x; print y;",
     "language": "python",
     "metadata": {},
     "outputs": [
      {
       "output_type": "stream",
       "stream": "stdout",
       "text": "1\n2\n"
      }
     ],
     "prompt_number": 57
    },
    {
     "cell_type": "code",
     "collapsed": false,
     "input": "_, y = [1, 5] # now y == 5, didn't care about the first element",
     "language": "python",
     "metadata": {},
     "outputs": [],
     "prompt_number": 60
    },
    {
     "cell_type": "code",
     "collapsed": false,
     "input": "print x; print y",
     "language": "python",
     "metadata": {},
     "outputs": [
      {
       "output_type": "stream",
       "stream": "stdout",
       "text": "1\n5\n"
      }
     ],
     "prompt_number": 61
    },
    {
     "cell_type": "code",
     "collapsed": false,
     "input": "#Tuples\n'''Tuples are lists\u2019 immutable cousins. Pretty much anything you can do to a list that doesn\u2019t\ninvolve modifying it, you can do to a tuple. You specify a tuple by using parentheses (or\nnothing) instead of square brackets '''",
     "language": "python",
     "metadata": {},
     "outputs": [
      {
       "metadata": {},
       "output_type": "pyout",
       "prompt_number": 62,
       "text": "'Tuples are lists\\xe2\\x80\\x99 immutable cousins. Pretty much anything you can do to a list that doesn\\xe2\\x80\\x99t\\ninvolve modifying it, you can do to a tuple. You specify a tuple by using parentheses (or\\nnothing) instead of square brackets '"
      }
     ],
     "prompt_number": 62
    },
    {
     "cell_type": "code",
     "collapsed": false,
     "input": "my_list = [1, 2]\nmy_tuple = (1, 2)\nother_tuple = 3, 4\nmy_list[1] = 3 # my_list is now [1, 3]\ntry:\n    my_tuple[1] = 3\nexcept TypeError:\n    print \"cannot modify a tuple\"",
     "language": "python",
     "metadata": {},
     "outputs": [
      {
       "output_type": "stream",
       "stream": "stdout",
       "text": "cannot modify a tuple\n"
      }
     ],
     "prompt_number": 63
    },
    {
     "cell_type": "code",
     "collapsed": false,
     "input": "def sum_and_product(x, y):\n    return (x + y),(x * y)\nsp = sum_and_product(2, 3) # equals (5, 6)\ns, p = sum_and_product(5, 10) # s is 15, p is 50",
     "language": "python",
     "metadata": {},
     "outputs": [],
     "prompt_number": 64
    },
    {
     "cell_type": "code",
     "collapsed": false,
     "input": "print sp; print s,p",
     "language": "python",
     "metadata": {},
     "outputs": [
      {
       "output_type": "stream",
       "stream": "stdout",
       "text": "(5, 6)\n15 50\n"
      }
     ],
     "prompt_number": 65
    },
    {
     "cell_type": "code",
     "collapsed": false,
     "input": "x, y = 1, 2 # now x is 1, y is 2\nx, y = y, x # Pythonic way to swap variables; now x is 2, y is 1\nprint x, y",
     "language": "python",
     "metadata": {},
     "outputs": [
      {
       "output_type": "stream",
       "stream": "stdout",
       "text": "2 1\n"
      }
     ],
     "prompt_number": 68
    },
    {
     "cell_type": "code",
     "collapsed": false,
     "input": "#Dictionaries\n'''Another fundamental data structure is a dictionary, which associates values with keys and\nallows you to quickly retrieve the value corresponding to a given key'''",
     "language": "python",
     "metadata": {},
     "outputs": [
      {
       "metadata": {},
       "output_type": "pyout",
       "prompt_number": 69,
       "text": "'Another fundamental data structure is a dictionary, which associates values with keys and\\nallows you to quickly retrieve the value corresponding to a given key'"
      }
     ],
     "prompt_number": 69
    },
    {
     "cell_type": "code",
     "collapsed": false,
     "input": "empty_dict = {} # Pythonic\nempty_dict2 = dict() # less Pythonic\ngrades = { \"Joel\" : 80, \"Tim\" : 95 } # dictionary literal\nprint empty_dict,grades",
     "language": "python",
     "metadata": {},
     "outputs": [
      {
       "ename": "NameError",
       "evalue": "name 't' is not defined",
       "output_type": "pyerr",
       "traceback": [
        "\u001b[1;31m---------------------------------------------------------------------------\u001b[0m\n\u001b[1;31mNameError\u001b[0m                                 Traceback (most recent call last)",
        "\u001b[1;32m<ipython-input-74-fbe6cc319232>\u001b[0m in \u001b[0;36m<module>\u001b[1;34m()\u001b[0m\n\u001b[0;32m      2\u001b[0m \u001b[0mempty_dict2\u001b[0m \u001b[1;33m=\u001b[0m \u001b[0mdict\u001b[0m\u001b[1;33m(\u001b[0m\u001b[1;33m)\u001b[0m \u001b[1;31m# less Pythonic\u001b[0m\u001b[1;33m\u001b[0m\u001b[0m\n\u001b[0;32m      3\u001b[0m \u001b[0mgrades\u001b[0m \u001b[1;33m=\u001b[0m \u001b[1;33m{\u001b[0m \u001b[1;34m\"Joel\"\u001b[0m \u001b[1;33m:\u001b[0m \u001b[1;36m80\u001b[0m\u001b[1;33m,\u001b[0m \u001b[1;34m\"Tim\"\u001b[0m \u001b[1;33m:\u001b[0m \u001b[1;36m95\u001b[0m \u001b[1;33m}\u001b[0m \u001b[1;31m# dictionary literal\u001b[0m\u001b[1;33m\u001b[0m\u001b[0m\n\u001b[1;32m----> 4\u001b[1;33m \u001b[1;32mprint\u001b[0m \u001b[0mempty_dict\u001b[0m\u001b[1;33m/\u001b[0m\u001b[0mt\u001b[0m\u001b[1;33m,\u001b[0m\u001b[0mgrades\u001b[0m\u001b[1;33m\u001b[0m\u001b[0m\n\u001b[0m",
        "\u001b[1;31mNameError\u001b[0m: name 't' is not defined"
       ]
      }
     ],
     "prompt_number": 74
    },
    {
     "cell_type": "code",
     "collapsed": false,
     "input": "joels_grade = grades[\"Joel\"] # equals 80\njoels_grade",
     "language": "python",
     "metadata": {},
     "outputs": [
      {
       "metadata": {},
       "output_type": "pyout",
       "prompt_number": 73,
       "text": "80"
      }
     ],
     "prompt_number": 73
    },
    {
     "cell_type": "code",
     "collapsed": false,
     "input": "",
     "language": "python",
     "metadata": {},
     "outputs": []
    }
   ],
   "metadata": {}
  }
 ]
}