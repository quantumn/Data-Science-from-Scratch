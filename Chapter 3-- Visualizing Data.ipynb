{
 "metadata": {
  "name": "Chapter 3-- Visualizing Data"
 },
 "nbformat": 3,
 "nbformat_minor": 0,
 "worksheets": [
  {
   "cells": [
    {
     "cell_type": "code",
     "collapsed": false,
     "input": "#matplotlib\n'''A wide variety of tools exists for visualizing data. We will be using the matplotlib\nlibrary, which is widely used (although sort of showing its age). If you are interested in\nproducing elaborate interactive visualizations for the Web, it is likely not the right choice,\nbut for simple bar charts, line charts, and scatterplots, it works pretty well.\nIn particular, we will be using the matplotlib.pyplot module. In its simplest use, pyplot\nmaintains an internal state in which you build up a visualization step by step. Once you\u2019re\ndone, you can save it (with savefig()) or display it (with show())\n'''",
     "language": "python",
     "metadata": {},
     "outputs": [
      {
       "metadata": {},
       "output_type": "pyout",
       "prompt_number": 1,
       "text": "'A wide variety of tools exists for visualizing data. We will be using the matplotlib\\nlibrary, which is widely used (although sort of showing its age). If you are interested in\\nproducing elaborate interactive visualizations for the Web, it is likely not the right choice,\\nbut for simple bar charts, line charts, and scatterplots, it works pretty well.\\nIn particular, we will be using the matplotlib.pyplot module. In its simplest use, pyplot\\nmaintains an internal state in which you build up a visualization step by step. Once you\\xe2\\x80\\x99re\\ndone, you can save it (with savefig()) or display it (with show())\\n'"
      }
     ],
     "prompt_number": 1
    },
    {
     "cell_type": "code",
     "collapsed": false,
     "input": "from matplotlib import pyplot as plt\nyears = [1950, 1960, 1970, 1980, 1990, 2000, 2010]\ngdp = [300.2, 543.3, 1075.9, 2862.5, 5979.6, 10289.7, 14958.3]\n# create a line chart, years on x-axis, gdp on y-axis\nplt.plot(years, gdp, color='green', marker='o', linestyle='solid')\n# add a title\nplt.title(\"Nominal GDP\")\n# add a label to the y-axis\nplt.ylabel(\"Billions of $\")\nplt.show()",
     "language": "python",
     "metadata": {},
     "outputs": [],
     "prompt_number": 2
    },
    {
     "cell_type": "code",
     "collapsed": false,
     "input": "#Bar Charts\n'''A bar chart is a good choice when you want to show how some quantity varies among\nsome discrete set of items. For instance, Figure 3-2 shows how many Academy Awards\nwere won by each of a variety of movies'''",
     "language": "python",
     "metadata": {},
     "outputs": [
      {
       "metadata": {},
       "output_type": "pyout",
       "prompt_number": 3,
       "text": "'A bar chart is a good choice when you want to show how some quantity varies among\\nsome discrete set of items. For instance, Figure 3-2 shows how many Academy Awards\\nwere won by each of a variety of movies'"
      }
     ],
     "prompt_number": 3
    },
    {
     "cell_type": "code",
     "collapsed": false,
     "input": "movies = [\"Annie Hall\", \"Ben-Hur\", \"Casablanca\", \"Gandhi\", \"West Side Story\"]\nnum_oscars = [5, 11, 3, 8, 10]\n# bars are by default width 0.8, so we'll add 0.1 to the left coordinates\n# so that each bar is centered\nxs = [i + 0.1 for i, _ in enumerate(movies)]\n# plot bars with left x-coordinates [xs], heights [num_oscars]\nplt.bar(xs, num_oscars)\nplt.ylabel(\"# of Academy Awards\")\nplt.title(\"My Favorite Movies\")\n# label x-axis with movie names at bar centers\nplt.xticks([i + 0.5 for i, _ in enumerate(movies)], movies)\nplt.show()",
     "language": "python",
     "metadata": {},
     "outputs": [],
     "prompt_number": 4
    },
    {
     "cell_type": "code",
     "collapsed": false,
     "input": "grades = [83,95,91,87,70,0,85,82,100,67,73,77,0]\ndecile = lambda grade: grade // 10 * 10\nhistogram = Counter(decile(grade) for grade in grades)\nplt.bar([x - 4 for x in histogram.keys()], # shift each bar to the left by 4\nhistogram.values(), # give each bar its correct height\n8) # give each bar a width of 8\nplt.axis([-5, 105, 0, 5]) # x-axis from -5 to 105,\n# y-axis from 0 to 5\nplt.xticks([10 * i for i in range(11)]) # x-axis labels at 0, 10, ..., 100\nplt.xlabel(\"Decile\")\nplt.ylabel(\"# of Students\")\nplt.title(\"Distribution of Exam 1 Grades\")\nplt.show()",
     "language": "python",
     "metadata": {},
     "outputs": [],
     "prompt_number": "*"
    },
    {
     "cell_type": "code",
     "collapsed": false,
     "input": "mentions = [500, 505]\nyears = [2013, 2014]\nplt.bar([2012.6, 2013.6], mentions, 0.8)\nplt.xticks(years)\nplt.ylabel(\"# of times I heard someone say 'data science'\")\n# if you don't do this, matplotlib will label the x-axis 0, 1\n# and then add a +2.013e3 off in the corner (bad matplotlib!)\nplt.ticklabel_format(useOffset=False)\n# misleading y-axis only shows the part above 500\nplt.axis([2012.5,2014.5,499,506])\nplt.title(\"Look at the 'Huge' Increase!\")\nplt.show()",
     "language": "python",
     "metadata": {},
     "outputs": [],
     "prompt_number": 5
    },
    {
     "cell_type": "code",
     "collapsed": false,
     "input": "plt.axis([2012.5,2014.5,0,550])\nplt.title(\"Not So Huge Anymore\")\nplt.show()",
     "language": "python",
     "metadata": {},
     "outputs": [],
     "prompt_number": 6
    },
    {
     "cell_type": "code",
     "collapsed": false,
     "input": "#Line Charts\n'''As we saw already, we can make line charts using plt.plot(). These are a good choice\nfor showing trends'''",
     "language": "python",
     "metadata": {},
     "outputs": [
      {
       "metadata": {},
       "output_type": "pyout",
       "prompt_number": 7,
       "text": "'As we saw already, we can make line charts using plt.plot(). These are a good choice\\nfor showing trends'"
      }
     ],
     "prompt_number": 7
    },
    {
     "cell_type": "code",
     "collapsed": false,
     "input": "variance = [1, 2, 4, 8, 16, 32, 64, 128, 256]\nbias_squared = [256, 128, 64, 32, 16, 8, 4, 2, 1]\ntotal_error = [x + y for x, y in zip(variance, bias_squared)]\nxs = [i for i, _ in enumerate(variance)]\n# we can make multiple calls to plt.plot\n# to show multiple series on the same chart\nplt.plot(xs, variance, 'g-', label='variance') # green solid line\nplt.plot(xs, bias_squared, 'r-.', label='bias^2') # red dot-dashed line\nplt.plot(xs, total_error, 'b:', label='total error') # blue dotted line\n# because we've assigned labels to each series\n# we can get a legend for free\n# loc=9 means \"top center\"\nplt.legend(loc=9)\nplt.xlabel(\"model complexity\")\nplt.title(\"The Bias-Variance Tradeoff\")\nplt.show()",
     "language": "python",
     "metadata": {},
     "outputs": [],
     "prompt_number": 8
    },
    {
     "cell_type": "code",
     "collapsed": false,
     "input": "#Scatterplots\n'''A scatterplot is the right choice for visualizing the relationship between two paired sets of\ndata'''",
     "language": "python",
     "metadata": {},
     "outputs": [
      {
       "metadata": {},
       "output_type": "pyout",
       "prompt_number": 9,
       "text": "'A scatterplot is the right choice for visualizing the relationship between two paired sets of\\ndata'"
      }
     ],
     "prompt_number": 9
    },
    {
     "cell_type": "code",
     "collapsed": false,
     "input": "friends = [ 70, 65, 72, 63, 71, 64, 60, 64, 67]\nminutes = [175, 170, 205, 120, 220, 130, 105, 145, 190]\nlabels = ['a', 'b', 'c', 'd', 'e', 'f', 'g', 'h', 'i']\nplt.scatter(friends, minutes)\n# label each point\nfor label, friend_count, minute_count in zip(labels, friends, minutes):\n    plt.annotate(label,\n        xy=(friend_count, minute_count), # put the label with its point\n        xytext=(5, -5), # but slightly offset\n        textcoords='offset points')\n    \nplt.title(\"Daily Minutes vs. Number of Friends\")\nplt.xlabel(\"# of friends\")\nplt.ylabel(\"daily minutes spent on the site\")\nplt.show()",
     "language": "python",
     "metadata": {},
     "outputs": [],
     "prompt_number": 10
    },
    {
     "cell_type": "code",
     "collapsed": false,
     "input": "",
     "language": "python",
     "metadata": {},
     "outputs": []
    }
   ],
   "metadata": {}
  }
 ]
}