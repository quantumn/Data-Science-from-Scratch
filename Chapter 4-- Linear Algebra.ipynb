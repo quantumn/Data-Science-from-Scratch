{
 "metadata": {
  "name": "Chapter 4-- Linear Algebra"
 },
 "nbformat": 3,
 "nbformat_minor": 0,
 "worksheets": [
  {
   "cells": [
    {
     "cell_type": "heading",
     "level": 2,
     "metadata": {},
     "source": "Vectors"
    },
    {
     "cell_type": "heading",
     "level": 4,
     "metadata": {},
     "source": "Abstractly, vectors are objects that can be added together (to form new vectors) and that\ncan be multiplied by scalars (i.e., numbers), also to form new vectors.\nConcretely (for us), vectors are points in some finite-dimensional space. Although you\nmight not think of your data as vectors, they are a good way to represent numeric data.\nFor example, if you have the heights, weights, and ages of a large number of people, you\ncan treat your data as three-dimensional vectors (height, weight, age). If you\u2019re\nteaching a class with four exams, you can treat student grades as four-dimensional vectors\n(exam1, exam2, exam3, exam4).\nThe simplest from-scratch approach is to represent vectors as lists of numbers. A list of\nthree numbers corresponds to a vector in three-dimensional space, and vice versa"
    },
    {
     "cell_type": "code",
     "collapsed": false,
     "input": "height_weight_age=[70,#inches\n                   170, #pounds\n                   40 ]#years\nheight_weight_age",
     "language": "python",
     "metadata": {},
     "outputs": [
      {
       "metadata": {},
       "output_type": "pyout",
       "prompt_number": 7,
       "text": "[70, 170, 40]"
      }
     ],
     "prompt_number": 7
    },
    {
     "cell_type": "code",
     "collapsed": false,
     "input": "grades=[95, # exam1\n80, # exam2\n75, # exam3\n62 ] # exam4\ngrades",
     "language": "python",
     "metadata": {},
     "outputs": [
      {
       "metadata": {},
       "output_type": "pyout",
       "prompt_number": 9,
       "text": "[95, 80, 75, 62]"
      }
     ],
     "prompt_number": 9
    },
    {
     "cell_type": "code",
     "collapsed": false,
     "input": "def vector_add(v, w):\n    \"\"\"adds corresponding elements\"\"\"\n    return [v_i-w_i for v_i,w_i in zip(v,w)]\n\nvector_add([5,8],[4,4])",
     "language": "python",
     "metadata": {},
     "outputs": [
      {
       "metadata": {},
       "output_type": "pyout",
       "prompt_number": 34,
       "text": "[1, 4]"
      }
     ],
     "prompt_number": 34
    },
    {
     "cell_type": "code",
     "collapsed": false,
     "input": "def vector_subtract(v, w):\n    \"\"\"subtracts corresponding elements\"\"\"\n    return [v_i - w_i\n        for v_i, w_i in zip(v, w)]\n\nvector_subtract([44,55],[31,14])",
     "language": "python",
     "metadata": {},
     "outputs": [
      {
       "metadata": {},
       "output_type": "pyout",
       "prompt_number": 35,
       "text": "[13, 41]"
      }
     ],
     "prompt_number": 35
    },
    {
     "cell_type": "code",
     "collapsed": false,
     "input": "def vector_sum(vectors):\n    \"\"\"sums all corresponding elements\"\"\"\n    result = vectors[0] # start with the first vector\n    for vector in vectors[1:]: # then loop over the others\n        result = vector_add(result, vector) # and add them to the result\n    return result\n\nprint result",
     "language": "python",
     "metadata": {},
     "outputs": [
      {
       "output_type": "stream",
       "stream": "stdout",
       "text": "[15, 21]\n"
      }
     ],
     "prompt_number": 46
    },
    {
     "cell_type": "code",
     "collapsed": false,
     "input": "def vector_sum(vectors):\n    return reduce(vector_add, vectors)\nreduce\n#vector_sum([5,5])",
     "language": "python",
     "metadata": {},
     "outputs": [
      {
       "metadata": {},
       "output_type": "pyout",
       "prompt_number": 52,
       "text": "<function reduce>"
      }
     ],
     "prompt_number": 52
    },
    {
     "cell_type": "code",
     "collapsed": false,
     "input": "def scalar_multiply(c,v):\n    \"\"\"c is a number, v is a vector\"\"\"\n    return [c*v_i for v_i in v]\n\nresult=scalar_multiply(3,[5,7])\nprint result",
     "language": "python",
     "metadata": {},
     "outputs": [
      {
       "output_type": "stream",
       "stream": "stdout",
       "text": "[15, 21]\n"
      }
     ],
     "prompt_number": 53
    },
    {
     "cell_type": "code",
     "collapsed": false,
     "input": "def vector_mean(vectors):\n    \"\"\"compute the vector whose ith element is the mean of the\nith elements of the input vectors\"\"\"\n    n=len(vectors)\n    return scalar_multiply(1/n,vector_sum(vectors))",
     "language": "python",
     "metadata": {},
     "outputs": [],
     "prompt_number": 56
    },
    {
     "cell_type": "code",
     "collapsed": false,
     "input": "'''The dot product of two vectors is the sum of their\ncomponentwise products'''\ndef dot(v,w):\n    \"\"\"v_1 * w_1 + ... + v_n * w_n\"\"\"\n    return sum(v_i*w_i for v_i,w_i in zip(v,w))\n\ndot([4,4,],[5,5])",
     "language": "python",
     "metadata": {},
     "outputs": [
      {
       "metadata": {},
       "output_type": "pyout",
       "prompt_number": 59,
       "text": "40"
      }
     ],
     "prompt_number": 59
    },
    {
     "cell_type": "code",
     "collapsed": false,
     "input": "def sum_of_squrares(v):\n    \"\"\"v_1 * v_1 + ... + v_n * v_n\"\"\"\n    return dot(v,v)\n\nsum_of_squrares([3,3])",
     "language": "python",
     "metadata": {},
     "outputs": [
      {
       "metadata": {},
       "output_type": "pyout",
       "prompt_number": 60,
       "text": "18"
      }
     ],
     "prompt_number": 60
    },
    {
     "cell_type": "code",
     "collapsed": false,
     "input": "import math \ndef magnitude(v):\n    return math.sqrt(sum_of_squrares(v)) # math.sqrt is square root function",
     "language": "python",
     "metadata": {},
     "outputs": [],
     "prompt_number": 61
    },
    {
     "cell_type": "code",
     "collapsed": false,
     "input": "def squared_distance(v,w):\n    \"\"\"(v_1 - w_1) ** 2 + ... + (v_n - w_n) ** 2\"\"\"\n    return sum_of_squrares(vector_subtract(v,w))\n\ndef distance(v,w):\n    return math.sqrt(squared_distance(v,w))",
     "language": "python",
     "metadata": {},
     "outputs": [],
     "prompt_number": 63
    },
    {
     "cell_type": "code",
     "collapsed": false,
     "input": "def distance(v,w):\n    return magnitude(vector_subtract(v,w))",
     "language": "python",
     "metadata": {},
     "outputs": [],
     "prompt_number": 64
    },
    {
     "cell_type": "heading",
     "level": 5,
     "metadata": {},
     "source": "NOTE\nUsing lists as vectors is great for exposition but terrible for performance.\nIn production code, you would want to use the NumPy library, which includes a high-performance array\nclass with all sorts of arithmetic operations included."
    },
    {
     "cell_type": "heading",
     "level": 2,
     "metadata": {},
     "source": "#Matrices"
    },
    {
     "cell_type": "raw",
     "metadata": {},
     "source": "A matrix is a two-dimensional collection of numbers. We will represent matrices as lists\nof lists, with each inner list having the same size and representing a row of the matrix. If\nA is a matrix, then A[i][j] is the element in the ith row and the jth column. Per\nmathematical convention, we will typically use capital letters to represent matrices. For\nexample:"
    },
    {
     "cell_type": "code",
     "collapsed": false,
     "input": "A = [[1, 2, 3], # A has 2 rows and 3 columns\n[4, 5, 6]]\nB = [[1, 2], # B has 3 rows and 2 columns\n[3, 4],\n[5, 6]]",
     "language": "python",
     "metadata": {},
     "outputs": [],
     "prompt_number": 65
    },
    {
     "cell_type": "heading",
     "level": 3,
     "metadata": {},
     "source": "NOTE\nIn mathematics, you would usually name the first row of the matrix \u201crow 1\u201d and the first column \u201ccolumn\n1.\u201d Because we\u2019re representing matrices with Python lists, which are zero-indexed, we\u2019ll call the first row\nof a matrix \u201crow 0\u201d and the first column \u201ccolumn 0.\u201d"
    },
    {
     "cell_type": "code",
     "collapsed": false,
     "input": "def shape(A):\n    num_rows=len(A)\n    num_cols=len(A[0]) if A else 0  # number of elements in first row\n    return num_rows,num_cols",
     "language": "python",
     "metadata": {},
     "outputs": [],
     "prompt_number": 67
    },
    {
     "cell_type": "code",
     "collapsed": false,
     "input": "def get_row(A,i):\n    return A[i]  # A[i] is already the ith row",
     "language": "python",
     "metadata": {},
     "outputs": [],
     "prompt_number": 68
    },
    {
     "cell_type": "code",
     "collapsed": false,
     "input": "def get_column(A,j):\n    return [A_i[j] # jth element of row A_i\n            for A_i in A] # for each row A_i",
     "language": "python",
     "metadata": {},
     "outputs": [],
     "prompt_number": 69
    },
    {
     "cell_type": "code",
     "collapsed": false,
     "input": "def make_matrix(num_rows,num_cols,entry_fn):\n    \"\"\"returns a num_rows x num_cols matrix whose (i,j)th entry is entry_fn(i, j)\"\"\"\n    return [[entry_fn(i,j)  # given i, create a list\n                 for j in range(num_cols)] # [entry_fn(i, 0), ... ]\n                for i in range(num_cols)] # create one list for each i",
     "language": "python",
     "metadata": {},
     "outputs": [],
     "prompt_number": 70
    },
    {
     "cell_type": "code",
     "collapsed": false,
     "input": "def is_diagonal(i,j):\n    \"\"\"1's on the 'diagonal', 0's everywhere else\"\"\"\n    return 1 if i==j else 0",
     "language": "python",
     "metadata": {},
     "outputs": [],
     "prompt_number": 71
    },
    {
     "cell_type": "code",
     "collapsed": false,
     "input": "identity_matrix=make_matrix(5,5,is_diagonal)\nidentity_matrix",
     "language": "python",
     "metadata": {},
     "outputs": [
      {
       "metadata": {},
       "output_type": "pyout",
       "prompt_number": 73,
       "text": "[[1, 0, 0, 0, 0],\n [0, 1, 0, 0, 0],\n [0, 0, 1, 0, 0],\n [0, 0, 0, 1, 0],\n [0, 0, 0, 0, 1]]"
      }
     ],
     "prompt_number": 73
    },
    {
     "cell_type": "code",
     "collapsed": false,
     "input": "friendships = [(0, 1), (0, 2), (1, 2), (1, 3), (2, 3), (3, 4),(4, 5), \n               (5, 6), (5, 7), (6, 8), (7, 8), (8, 9)]\n\nprint friendships",
     "language": "python",
     "metadata": {},
     "outputs": [
      {
       "output_type": "stream",
       "stream": "stdout",
       "text": "[(0, 1), (0, 2), (1, 2), (1, 3), (2, 3), (3, 4), (4, 5), (5, 6), (5, 7), (6, 8), (7, 8), (8, 9)]\n"
      }
     ],
     "prompt_number": 76
    },
    {
     "cell_type": "code",
     "collapsed": false,
     "input": "friendships = [[0, 1, 1, 0, 0, 0, 0, 0, 0, 0], # user 0\n[1, 0, 1, 1, 0, 0, 0, 0, 0, 0], # user 1\n[1, 1, 0, 1, 0, 0, 0, 0, 0, 0], # user 2\n[0, 1, 1, 0, 1, 0, 0, 0, 0, 0], # user 3\n[0, 0, 0, 1, 0, 1, 0, 0, 0, 0], # user 4\n[0, 0, 0, 0, 1, 0, 1, 1, 0, 0], # user 5\n[0, 0, 0, 0, 0, 1, 0, 0, 1, 0], # user 6\n[0, 0, 0, 0, 0, 1, 0, 0, 1, 0], # user 7\n[0, 0, 0, 0, 0, 0, 1, 1, 0, 1], # user 8\n[0, 0, 0, 0, 0, 0, 0, 0, 1, 0]] # user 9\nprint friendships",
     "language": "python",
     "metadata": {},
     "outputs": [
      {
       "output_type": "stream",
       "stream": "stdout",
       "text": "[[0, 1, 1, 0, 0, 0, 0, 0, 0, 0], [1, 0, 1, 1, 0, 0, 0, 0, 0, 0], [1, 1, 0, 1, 0, 0, 0, 0, 0, 0], [0, 1, 1, 0, 1, 0, 0, 0, 0, 0], [0, 0, 0, 1, 0, 1, 0, 0, 0, 0], [0, 0, 0, 0, 1, 0, 1, 1, 0, 0], [0, 0, 0, 0, 0, 1, 0, 0, 1, 0], [0, 0, 0, 0, 0, 1, 0, 0, 1, 0], [0, 0, 0, 0, 0, 0, 1, 1, 0, 1], [0, 0, 0, 0, 0, 0, 0, 0, 1, 0]]\n"
      }
     ],
     "prompt_number": 2
    },
    {
     "cell_type": "code",
     "collapsed": false,
     "input": "friendships[0][2] == 1  # True, 0 and 2 are friends\n",
     "language": "python",
     "metadata": {},
     "outputs": [
      {
       "metadata": {},
       "output_type": "pyout",
       "prompt_number": 7,
       "text": "True"
      }
     ],
     "prompt_number": 7
    },
    {
     "cell_type": "code",
     "collapsed": false,
     "input": "friendships[0][8] == 1 # False, 0 and 8 are not friends",
     "language": "python",
     "metadata": {},
     "outputs": [
      {
       "metadata": {},
       "output_type": "pyout",
       "prompt_number": 6,
       "text": "False"
      }
     ],
     "prompt_number": 6
    },
    {
     "cell_type": "code",
     "collapsed": false,
     "input": "friends_of_five = [i # only need\n                    for i, is_friend in enumerate(friendships[5]) # to look at\n                        if is_friend] # one row",
     "language": "python",
     "metadata": {},
     "outputs": [],
     "prompt_number": 8
    },
    {
     "cell_type": "code",
     "collapsed": false,
     "input": "",
     "language": "python",
     "metadata": {},
     "outputs": []
    }
   ],
   "metadata": {}
  }
 ]
}