{
 "metadata": {
  "name": "Chapter 4-- Linear Algebra"
 },
 "nbformat": 3,
 "nbformat_minor": 0,
 "worksheets": [
  {
   "cells": [
    {
     "cell_type": "heading",
     "level": 2,
     "metadata": {},
     "source": "Vectors"
    },
    {
     "cell_type": "heading",
     "level": 4,
     "metadata": {},
     "source": "Abstractly, vectors are objects that can be added together (to form new vectors) and that\ncan be multiplied by scalars (i.e., numbers), also to form new vectors.\nConcretely (for us), vectors are points in some finite-dimensional space. Although you\nmight not think of your data as vectors, they are a good way to represent numeric data.\nFor example, if you have the heights, weights, and ages of a large number of people, you\ncan treat your data as three-dimensional vectors (height, weight, age). If you\u2019re\nteaching a class with four exams, you can treat student grades as four-dimensional vectors\n(exam1, exam2, exam3, exam4).\nThe simplest from-scratch approach is to represent vectors as lists of numbers. A list of\nthree numbers corresponds to a vector in three-dimensional space, and vice versa"
    },
    {
     "cell_type": "code",
     "collapsed": false,
     "input": "height_weight_age=[70,#inches\n                   170, #pounds\n                   40 ]#years\nheight_weight_age",
     "language": "python",
     "metadata": {},
     "outputs": [
      {
       "metadata": {},
       "output_type": "pyout",
       "prompt_number": 7,
       "text": "[70, 170, 40]"
      }
     ],
     "prompt_number": 7
    },
    {
     "cell_type": "code",
     "collapsed": false,
     "input": "grades=[95, # exam1\n80, # exam2\n75, # exam3\n62 ] # exam4\ngrades",
     "language": "python",
     "metadata": {},
     "outputs": [
      {
       "metadata": {},
       "output_type": "pyout",
       "prompt_number": 9,
       "text": "[95, 80, 75, 62]"
      }
     ],
     "prompt_number": 9
    },
    {
     "cell_type": "code",
     "collapsed": false,
     "input": "def vector_add(v, w):\n    \"\"\"adds corresponding elements\"\"\"\n    return [v_i-w_i for v_i,w_i in zip(v,w)]",
     "language": "python",
     "metadata": {},
     "outputs": [],
     "prompt_number": 11
    },
    {
     "cell_type": "code",
     "collapsed": false,
     "input": "def vector_subtract(v, w):\n    \"\"\"subtracts corresponding elements\"\"\"\n    return [v_i - w_i\n        for v_i, w_i in zip(v, w)]\n",
     "language": "python",
     "metadata": {},
     "outputs": [],
     "prompt_number": 15
    },
    {
     "cell_type": "code",
     "collapsed": false,
     "input": "def vector_sum(vectors):\n    \"\"\"sums all corresponding elements\"\"\"\n    result = vectors[0] # start with the first vector\n    for vector in vectors[1:]: # then loop over the others\n        result = vector_add(result, vector) # and add them to the result\n    return result",
     "language": "python",
     "metadata": {},
     "outputs": [],
     "prompt_number": 16
    },
    {
     "cell_type": "code",
     "collapsed": false,
     "input": "def vector_sum(vectors):\n    return reduce(vector_add, vectors)\n\n",
     "language": "python",
     "metadata": {},
     "outputs": [],
     "prompt_number": 21
    },
    {
     "cell_type": "code",
     "collapsed": false,
     "input": "def scalar_multiply(c,v):\n    \"\"\"c is a number, v is a vector\"\"\"\n    return [c*v_i for v_i in v]\n\nresult=scalar_multiply(3,[5,7])\nprint result",
     "language": "python",
     "metadata": {},
     "outputs": [
      {
       "output_type": "stream",
       "stream": "stdout",
       "text": "[15, 21]\n"
      }
     ],
     "prompt_number": 25
    },
    {
     "cell_type": "code",
     "collapsed": false,
     "input": "",
     "language": "python",
     "metadata": {},
     "outputs": []
    }
   ],
   "metadata": {}
  }
 ]
}