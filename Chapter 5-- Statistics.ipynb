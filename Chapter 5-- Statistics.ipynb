{
 "metadata": {
  "name": "Chapter 5-- Statistics"
 },
 "nbformat": 3,
 "nbformat_minor": 0,
 "worksheets": [
  {
   "cells": [
    {
     "cell_type": "heading",
     "level": 2,
     "metadata": {},
     "source": "Statistics"
    },
    {
     "cell_type": "heading",
     "level": 5,
     "metadata": {},
     "source": "Statistics refers to the mathematics and techniques with which we understand data. It is a\nrich, enormous field, more suited to a shelf (or room) in a library rather than a chapter in a\nbook, and so our discussion will necessarily not be a deep one. Instead, I\u2019ll try to teach\nyou just enough to be dangerous, and pique your interest just enough that you\u2019ll go off and\nlearn more."
    },
    {
     "cell_type": "code",
     "collapsed": false,
     "input": "import math",
     "language": "python",
     "metadata": {},
     "outputs": [],
     "prompt_number": 50
    },
    {
     "cell_type": "heading",
     "level": 3,
     "metadata": {},
     "source": "Describing a Single Set of Data"
    },
    {
     "cell_type": "code",
     "collapsed": false,
     "input": "num_friends=[100,49,40,25,13, # ... and lots more\n             ]",
     "language": "python",
     "metadata": {},
     "outputs": [],
     "prompt_number": 60
    },
    {
     "cell_type": "code",
     "collapsed": false,
     "input": "import matplotlib as plt\nfrom collections import Counter\nfriends_counts=Counter(num_friends)\nxs=range(101) # largest value is 100\nys=[friends_counts[x] for x in xs] # height is just # of friends\nplt.bar(xs,ys)\nplt.axis([0,101,0,25])\nplt.title(\"Histogram of Friend Counts\")\nplt.xlabel(\"# of friends\")\nplt.ylabel(\"# of people\")\nplt.show()",
     "language": "python",
     "metadata": {},
     "outputs": [
      {
       "ename": "AttributeError",
       "evalue": "'module' object has no attribute 'bar'",
       "output_type": "pyerr",
       "traceback": [
        "\u001b[1;31m---------------------------------------------------------------------------\u001b[0m\n\u001b[1;31mAttributeError\u001b[0m                            Traceback (most recent call last)",
        "\u001b[1;32m<ipython-input-63-e5333dbe5425>\u001b[0m in \u001b[0;36m<module>\u001b[1;34m()\u001b[0m\n\u001b[0;32m      4\u001b[0m \u001b[0mxs\u001b[0m\u001b[1;33m=\u001b[0m\u001b[0mrange\u001b[0m\u001b[1;33m(\u001b[0m\u001b[1;36m101\u001b[0m\u001b[1;33m)\u001b[0m \u001b[1;31m# largest value is 100\u001b[0m\u001b[1;33m\u001b[0m\u001b[0m\n\u001b[0;32m      5\u001b[0m \u001b[0mys\u001b[0m\u001b[1;33m=\u001b[0m\u001b[1;33m[\u001b[0m\u001b[0mfriends_counts\u001b[0m\u001b[1;33m[\u001b[0m\u001b[0mx\u001b[0m\u001b[1;33m]\u001b[0m \u001b[1;32mfor\u001b[0m \u001b[0mx\u001b[0m \u001b[1;32min\u001b[0m \u001b[0mxs\u001b[0m\u001b[1;33m]\u001b[0m \u001b[1;31m# height is just # of friends\u001b[0m\u001b[1;33m\u001b[0m\u001b[0m\n\u001b[1;32m----> 6\u001b[1;33m \u001b[0mplt\u001b[0m\u001b[1;33m.\u001b[0m\u001b[0mbar\u001b[0m\u001b[1;33m(\u001b[0m\u001b[0mxs\u001b[0m\u001b[1;33m,\u001b[0m\u001b[0mys\u001b[0m\u001b[1;33m)\u001b[0m\u001b[1;33m\u001b[0m\u001b[0m\n\u001b[0m\u001b[0;32m      7\u001b[0m \u001b[0mplt\u001b[0m\u001b[1;33m.\u001b[0m\u001b[0maxis\u001b[0m\u001b[1;33m(\u001b[0m\u001b[1;33m[\u001b[0m\u001b[1;36m0\u001b[0m\u001b[1;33m,\u001b[0m\u001b[1;36m101\u001b[0m\u001b[1;33m,\u001b[0m\u001b[1;36m0\u001b[0m\u001b[1;33m,\u001b[0m\u001b[1;36m25\u001b[0m\u001b[1;33m]\u001b[0m\u001b[1;33m)\u001b[0m\u001b[1;33m\u001b[0m\u001b[0m\n\u001b[0;32m      8\u001b[0m \u001b[0mplt\u001b[0m\u001b[1;33m.\u001b[0m\u001b[0mtitle\u001b[0m\u001b[1;33m(\u001b[0m\u001b[1;34m\"Histogram of Friend Counts\"\u001b[0m\u001b[1;33m)\u001b[0m\u001b[1;33m\u001b[0m\u001b[0m\n",
        "\u001b[1;31mAttributeError\u001b[0m: 'module' object has no attribute 'bar'"
       ]
      }
     ],
     "prompt_number": 63
    },
    {
     "cell_type": "code",
     "collapsed": false,
     "input": "",
     "language": "python",
     "metadata": {},
     "outputs": [],
     "prompt_number": 23
    },
    {
     "cell_type": "code",
     "collapsed": false,
     "input": "num_points = len(num_friends) # 204\nlargest_value = max(num_friends) # 100\nsmallest_value = min(num_friends) # 1",
     "language": "python",
     "metadata": {},
     "outputs": [],
     "prompt_number": 24
    },
    {
     "cell_type": "code",
     "collapsed": false,
     "input": "sorted_values=sorted(num_friends)\nprint sorted_values\nsmallest_value=sorted_values[0]\nprint smallest_value\nsecond_smallest_value = sorted_values[1] # 1\nprint second_smallest_value\nsecond_largest_value = sorted_values[-2] # 49\nprint second_largest_value",
     "language": "python",
     "metadata": {},
     "outputs": [
      {
       "output_type": "stream",
       "stream": "stdout",
       "text": "[13, 25, 40, 49, 100]\n13\n25\n49\n"
      }
     ],
     "prompt_number": 25
    },
    {
     "cell_type": "heading",
     "level": 3,
     "metadata": {},
     "source": "Central Tendencies"
    },
    {
     "cell_type": "heading",
     "level": 5,
     "metadata": {},
     "source": "Usually, we\u2019ll want some notion of where our data is centered. Most commonly we\u2019ll use\nthe mean (or average), which is just the sum of the data divided by its count:"
    },
    {
     "cell_type": "code",
     "collapsed": false,
     "input": "# this isn't right if you don't from __future__ import division\ndef mean(x):\n    return sum(x)/len(x)\n\nmean(num_friends)",
     "language": "python",
     "metadata": {},
     "outputs": [
      {
       "metadata": {},
       "output_type": "pyout",
       "prompt_number": 34,
       "text": "45"
      }
     ],
     "prompt_number": 34
    },
    {
     "cell_type": "code",
     "collapsed": false,
     "input": "def median(v):\n    \n    n=len(v)\n    sorted_v=sorted(v)\n    midpoint=n//2\n    \n    if n%2==1:\n        return sorted_v[midpoint]\n    else:\n        lo=midpoint-1\n        hi=midpoint\n        return (sorted_v[lo]+sorted_v[hi]/2)\n\nmedian(num_friends)",
     "language": "python",
     "metadata": {},
     "outputs": [
      {
       "metadata": {},
       "output_type": "pyout",
       "prompt_number": 35,
       "text": "40"
      }
     ],
     "prompt_number": 35
    },
    {
     "cell_type": "code",
     "collapsed": false,
     "input": "def quantile(x,p):\n    \"\"\"returns the pth-percentile value in x\"\"\"\n    p_index=int(p*len(x))\n    return sorted(x)[p_index]",
     "language": "python",
     "metadata": {},
     "outputs": [],
     "prompt_number": 36
    },
    {
     "cell_type": "code",
     "collapsed": false,
     "input": "print quantile(num_friends,0.10)\nprint quantile(num_friends,0.25)\nprint quantile(num_friends,0.75)\nprint quantile(num_friends,0.90)",
     "language": "python",
     "metadata": {},
     "outputs": [
      {
       "output_type": "stream",
       "stream": "stdout",
       "text": "13\n25\n49\n100\n"
      }
     ],
     "prompt_number": 37
    },
    {
     "cell_type": "markdown",
     "metadata": {},
     "source": "Python\u306ecollections\u30e2\u30b8\u30e5\u30fc\u30eb\nhttp://sucrose.hatenablog.com/entry/2014/04/21/000909"
    },
    {
     "cell_type": "code",
     "collapsed": false,
     "input": "from collections import Counter\n\ndef mode(x):\n    \"\"\"returns a list, might be more than one mode\"\"\"\n    counts=Counter(x)\n    max_count=max(counts.values())\n    return[x_i for x_i ,count in counts.iteritems()\n           if count==max_count]\n\nmode(num_friends)",
     "language": "python",
     "metadata": {},
     "outputs": [
      {
       "metadata": {},
       "output_type": "pyout",
       "prompt_number": 38,
       "text": "[40, 49, 100, 13, 25]"
      }
     ],
     "prompt_number": 38
    },
    {
     "cell_type": "heading",
     "level": 2,
     "metadata": {},
     "source": "Dispersion\n"
    },
    {
     "cell_type": "heading",
     "level": 5,
     "metadata": {},
     "source": "Dispersion refers to measures of how spread out our data is. Typically they\u2019re statistics for\nwhich values near zero signify not spread out at all and for which large values (whatever\nthat means) signify very spread out. For instance, a very simple measure is the range,\nwhich is just the difference between the largest and smallest elements"
    },
    {
     "cell_type": "code",
     "collapsed": false,
     "input": "# \"range\" already means something in Python, so we'll use a different name\ndef data_range(x):\n    return max(x)-min(x)\n\ndata_range(num_friends)",
     "language": "python",
     "metadata": {},
     "outputs": [
      {
       "metadata": {},
       "output_type": "pyout",
       "prompt_number": 39,
       "text": "87"
      }
     ],
     "prompt_number": 39
    },
    {
     "cell_type": "code",
     "collapsed": false,
     "input": "def de_mean(x):\n    \"\"\"translate x by subtracting its mean (so the result has mean 0)\"\"\"\n    x_bar=mean(x)\n    return [x_i-x_bar for x_i in x]",
     "language": "python",
     "metadata": {},
     "outputs": [],
     "prompt_number": 40
    },
    {
     "cell_type": "code",
     "collapsed": false,
     "input": "def dot(v, w):\n    \"\"\"v_1 * w_1 + ... + v_n * w_n\"\"\"\n    return sum(v_i * w_i\n        for v_i, w_i in zip(v, w))",
     "language": "python",
     "metadata": {},
     "outputs": [],
     "prompt_number": 54
    },
    {
     "cell_type": "code",
     "collapsed": false,
     "input": "def sum_of_squares(v):\n    \"\"\"v_1 * v_1 + ... + v_n * v_n\"\"\"\n    return dot(v, v)",
     "language": "python",
     "metadata": {},
     "outputs": [],
     "prompt_number": 55
    },
    {
     "cell_type": "code",
     "collapsed": false,
     "input": "def variance(x):\n    \"\"\"assumes x has at least two elements\"\"\"\n    n=len(x)\n    deviations=de_mean(x)\n    return sum_of_squares(deviations)/(n-1)\n\nvariance(num_friends)",
     "language": "python",
     "metadata": {},
     "outputs": [
      {
       "metadata": {},
       "output_type": "pyout",
       "prompt_number": 56,
       "text": "1122"
      }
     ],
     "prompt_number": 56
    },
    {
     "cell_type": "code",
     "collapsed": false,
     "input": "def standard_deviation(x):\n    return sqrt(variance(x))\n\nstandard_deviation(num_friends)",
     "language": "python",
     "metadata": {},
     "outputs": [
      {
       "metadata": {},
       "output_type": "pyout",
       "prompt_number": 57,
       "text": "33.49626844888845"
      }
     ],
     "prompt_number": 57
    },
    {
     "cell_type": "code",
     "collapsed": false,
     "input": "def interquartile_range(x):\n    return quantile(x,.75)-quantile(x,.25)\n\ninterquartile_range(num_friends)",
     "language": "python",
     "metadata": {},
     "outputs": [
      {
       "metadata": {},
       "output_type": "pyout",
       "prompt_number": 64,
       "text": "24"
      }
     ],
     "prompt_number": 64
    },
    {
     "cell_type": "heading",
     "level": 2,
     "metadata": {},
     "source": "Correlation"
    },
    {
     "cell_type": "heading",
     "level": 5,
     "metadata": {},
     "source": "DataSciencester\u2019s VP of Growth has a theory that the amount of time people spend on the\nsite is related to the number of friends they have on the site (she\u2019s not a VP for nothing),\nand she\u2019s asked you to verify this."
    },
    {
     "cell_type": "code",
     "collapsed": false,
     "input": "daily_minitues=[31,19,17,23,20]",
     "language": "python",
     "metadata": {},
     "outputs": [],
     "prompt_number": 73
    },
    {
     "cell_type": "code",
     "collapsed": false,
     "input": "def covariance(x,y):\n    n=len(x)\n    return dot(de_mean(x),de_mean(y))/(n-1)\n\ncovariance(num_friends,daily_minitues)",
     "language": "python",
     "metadata": {},
     "outputs": [
      {
       "metadata": {},
       "output_type": "pyout",
       "prompt_number": 74,
       "text": "138"
      }
     ],
     "prompt_number": 74
    },
    {
     "cell_type": "code",
     "collapsed": false,
     "input": "def correlation(x,y):\n    stdev_x=standard_deviation(x)\n    stdev_y=standard_deviation(y)\n    if stdev_x>0 and stdev_y >0:\n        return covariance(x,y)/stdev_x/stdev_y\n    else:   # if no variation, correlation is zero\n        return 0 \n\ncorrelation(num_friends,daily_minitues)",
     "language": "python",
     "metadata": {},
     "outputs": [
      {
       "metadata": {},
       "output_type": "pyout",
       "prompt_number": 75,
       "text": "0.7521804311928879"
      }
     ],
     "prompt_number": 75
    },
    {
     "cell_type": "code",
     "collapsed": false,
     "input": "outlier = num_friends.index(100) # index of outlier\nnum_friends_good = [x for i, x in enumerate(num_friends)\n                        if i != outlier]\ndaily_minutes_good = [x for i, x in enumerate(daily_minitues)\n                        if i != outlier]\n\ncorrelation(num_friends_good, daily_minutes_good)",
     "language": "python",
     "metadata": {},
     "outputs": [
      {
       "metadata": {},
       "output_type": "pyout",
       "prompt_number": 77,
       "text": "-0.4733810683311509"
      }
     ],
     "prompt_number": 77
    },
    {
     "cell_type": "code",
     "collapsed": false,
     "input": "",
     "language": "python",
     "metadata": {},
     "outputs": []
    }
   ],
   "metadata": {}
  }
 ]
}