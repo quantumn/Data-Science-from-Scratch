{
 "metadata": {
  "name": "Chapter 5-- Statistics"
 },
 "nbformat": 3,
 "nbformat_minor": 0,
 "worksheets": [
  {
   "cells": [
    {
     "cell_type": "heading",
     "level": 2,
     "metadata": {},
     "source": "Statistics"
    },
    {
     "cell_type": "heading",
     "level": 5,
     "metadata": {},
     "source": "Statistics refers to the mathematics and techniques with which we understand data. It is a\nrich, enormous field, more suited to a shelf (or room) in a library rather than a chapter in a\nbook, and so our discussion will necessarily not be a deep one. Instead, I\u2019ll try to teach\nyou just enough to be dangerous, and pique your interest just enough that you\u2019ll go off and\nlearn more."
    },
    {
     "cell_type": "heading",
     "level": 3,
     "metadata": {},
     "source": "Describing a Single Set of Data"
    },
    {
     "cell_type": "code",
     "collapsed": false,
     "input": "num_friends=[100,49,40,25,13, # ... and lots more\n             ]",
     "language": "python",
     "metadata": {},
     "outputs": [],
     "prompt_number": 1
    },
    {
     "cell_type": "code",
     "collapsed": false,
     "input": "import matplotlib as plt\nfriends_counts=Counter(num_friends)\nxs=range(101) # largest value is 100\nys=[friends_counts[x] for x in xs] # height is just # of friends\nplt.bar(xs,ys)\nplt.axis([0,101,0,25])\nplt.title(\"Histogram of Friend Counts\")\nplt.xlabel(\"# of friends\")\nplt.ylabel(\"# of people\")\nplt.show()",
     "language": "python",
     "metadata": {},
     "outputs": [
      {
       "ename": "NameError",
       "evalue": "name 'Counter' is not defined",
       "output_type": "pyerr",
       "traceback": [
        "\u001b[1;31m---------------------------------------------------------------------------\u001b[0m\n\u001b[1;31mNameError\u001b[0m                                 Traceback (most recent call last)",
        "\u001b[1;32m<ipython-input-5-06353579b4d0>\u001b[0m in \u001b[0;36m<module>\u001b[1;34m()\u001b[0m\n\u001b[0;32m      1\u001b[0m \u001b[1;32mimport\u001b[0m \u001b[0mmatplotlib\u001b[0m \u001b[1;32mas\u001b[0m \u001b[0mplt\u001b[0m\u001b[1;33m\u001b[0m\u001b[0m\n\u001b[1;32m----> 2\u001b[1;33m \u001b[0mfriends_counts\u001b[0m\u001b[1;33m=\u001b[0m\u001b[0mCounter\u001b[0m\u001b[1;33m(\u001b[0m\u001b[0mnum_friends\u001b[0m\u001b[1;33m)\u001b[0m\u001b[1;33m\u001b[0m\u001b[0m\n\u001b[0m\u001b[0;32m      3\u001b[0m \u001b[0mxs\u001b[0m\u001b[1;33m=\u001b[0m\u001b[0mrange\u001b[0m\u001b[1;33m(\u001b[0m\u001b[1;36m101\u001b[0m\u001b[1;33m)\u001b[0m \u001b[1;31m# largest value is 100\u001b[0m\u001b[1;33m\u001b[0m\u001b[0m\n\u001b[0;32m      4\u001b[0m \u001b[0mys\u001b[0m\u001b[1;33m=\u001b[0m\u001b[1;33m[\u001b[0m\u001b[0mfriends_counts\u001b[0m\u001b[1;33m[\u001b[0m\u001b[0mx\u001b[0m\u001b[1;33m]\u001b[0m \u001b[1;32mfor\u001b[0m \u001b[0mx\u001b[0m \u001b[1;32min\u001b[0m \u001b[0mxs\u001b[0m\u001b[1;33m]\u001b[0m \u001b[1;31m# height is just # of friends\u001b[0m\u001b[1;33m\u001b[0m\u001b[0m\n\u001b[0;32m      5\u001b[0m \u001b[0mplt\u001b[0m\u001b[1;33m.\u001b[0m\u001b[0mbar\u001b[0m\u001b[1;33m(\u001b[0m\u001b[0mxs\u001b[0m\u001b[1;33m,\u001b[0m\u001b[0mys\u001b[0m\u001b[1;33m)\u001b[0m\u001b[1;33m\u001b[0m\u001b[0m\n",
        "\u001b[1;31mNameError\u001b[0m: name 'Counter' is not defined"
       ]
      }
     ],
     "prompt_number": 5
    },
    {
     "cell_type": "code",
     "collapsed": false,
     "input": "help(Counter)",
     "language": "python",
     "metadata": {},
     "outputs": [
      {
       "ename": "NameError",
       "evalue": "name 'Counter' is not defined",
       "output_type": "pyerr",
       "traceback": [
        "\u001b[1;31m---------------------------------------------------------------------------\u001b[0m\n\u001b[1;31mNameError\u001b[0m                                 Traceback (most recent call last)",
        "\u001b[1;32m<ipython-input-7-d4ac682ce4b6>\u001b[0m in \u001b[0;36m<module>\u001b[1;34m()\u001b[0m\n\u001b[1;32m----> 1\u001b[1;33m \u001b[0mhelp\u001b[0m\u001b[1;33m(\u001b[0m\u001b[0mCounter\u001b[0m\u001b[1;33m)\u001b[0m\u001b[1;33m\u001b[0m\u001b[0m\n\u001b[0m",
        "\u001b[1;31mNameError\u001b[0m: name 'Counter' is not defined"
       ]
      }
     ],
     "prompt_number": 7
    },
    {
     "cell_type": "code",
     "collapsed": false,
     "input": "num_points = len(num_friends) # 204\nlargest_value = max(num_friends) # 100\nsmallest_value = min(num_friends) # 1",
     "language": "python",
     "metadata": {},
     "outputs": [],
     "prompt_number": 8
    },
    {
     "cell_type": "code",
     "collapsed": false,
     "input": "sorted_values=sorted(num_friends)\nprint sorted_values\nsmallest_value=sorted_values[0]\nprint smallest_value\nsecond_smallest_value = sorted_values[1] # 1\nprint second_smallest_value\nsecond_largest_value = sorted_values[-2] # 49\nprint second_largest_value",
     "language": "python",
     "metadata": {},
     "outputs": [
      {
       "output_type": "stream",
       "stream": "stdout",
       "text": "[13, 25, 40, 49, 100]\n13\n25\n49\n"
      }
     ],
     "prompt_number": 12
    },
    {
     "cell_type": "heading",
     "level": 3,
     "metadata": {},
     "source": "Central Tendencies"
    },
    {
     "cell_type": "heading",
     "level": 5,
     "metadata": {},
     "source": "Usually, we\u2019ll want some notion of where our data is centered. Most commonly we\u2019ll use\nthe mean (or average), which is just the sum of the data divided by its count:"
    },
    {
     "cell_type": "code",
     "collapsed": false,
     "input": "# this isn't right if you don't from __future__ import division\ndef mean(x):\n    return sum(x)/len(x)\n\nmean(num_friends)",
     "language": "python",
     "metadata": {},
     "outputs": [
      {
       "metadata": {},
       "output_type": "pyout",
       "prompt_number": 22,
       "text": "45"
      }
     ],
     "prompt_number": 22
    },
    {
     "cell_type": "code",
     "collapsed": false,
     "input": "def median(v):\n    \n    n=len(v)\n    sorted_v=sorted(v)\n    midpoint=n//2\n    \n    if n%2==1:\n        return sorted_v[midpoint]\n    else:\n        lo=midpoint-1\n        hi=midpoint\n        return (sorted_v[lo]+sorted_v[hi]/2)\n\nmedian(num_friends)",
     "language": "python",
     "metadata": {},
     "outputs": [
      {
       "metadata": {},
       "output_type": "pyout",
       "prompt_number": 26,
       "text": "40"
      }
     ],
     "prompt_number": 26
    },
    {
     "cell_type": "code",
     "collapsed": false,
     "input": "",
     "language": "python",
     "metadata": {},
     "outputs": []
    }
   ],
   "metadata": {}
  }
 ]
}