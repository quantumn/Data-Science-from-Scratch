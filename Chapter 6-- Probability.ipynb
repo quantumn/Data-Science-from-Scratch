{
 "metadata": {
  "name": "Chapter 6-- Probability"
 },
 "nbformat": 3,
 "nbformat_minor": 0,
 "worksheets": [
  {
   "cells": [
    {
     "cell_type": "heading",
     "level": 2,
     "metadata": {},
     "source": "Dependence and Independence"
    },
    {
     "cell_type": "heading",
     "level": 5,
     "metadata": {},
     "source": "Roughly speaking, we say that two events E and F are dependent if knowing something\nabout whether E happens gives us information about whether F happens (and vice versa).\nOtherwise they are independent.\nFor instance, if we flip a fair coin twice, knowing whether the first flip is Heads gives us\nno information about whether the second flip is Heads. These events are independent. On\nthe other hand, knowing whether the first flip is Heads certainly gives us information\nabout whether both flips are Tails. (If the first flip is Heads, then definitely it\u2019s not the case\nthat both flips are Tails.) These two events are dependent.\nMathematically, we say that two events E and F are independent if the probability that\nthey both happen is the product of the probabilities that each one happens:\n"
    },
    {
     "cell_type": "heading",
     "level": 2,
     "metadata": {},
     "source": "Conditional Probability"
    },
    {
     "cell_type": "code",
     "collapsed": false,
     "input": "import random\ndef random_kid():\n    return random.choice(['boy','girl'])\nprint random_kid()\n\nboth_girls=0\nolder_girl=0\neither_girl=0\n\nrandom.seed(0)\nfor _ in range(10000):\n    younger=random_kid()\n    older=random_kid()\n    if older=='girl':\n        older_girl+=1\n    if older=='girl' and younger=='girl':\n        both_girls+=1\n    if older=='girl' or younger=='girl':\n        either_girl+=1\n        \nprint 'P(both|older):',both_girls/older_girl\nprint \"P(both | either): \", both_girls / either_girl",
     "language": "python",
     "metadata": {},
     "outputs": [
      {
       "output_type": "stream",
       "stream": "stdout",
       "text": "girl\nP(both|older): 0\nP(both | either):  0\n"
      }
     ],
     "prompt_number": 1
    },
    {
     "cell_type": "code",
     "collapsed": false,
     "input": "",
     "language": "python",
     "metadata": {},
     "outputs": [],
     "prompt_number": 1
    },
    {
     "cell_type": "code",
     "collapsed": false,
     "input": "",
     "language": "python",
     "metadata": {},
     "outputs": [],
     "prompt_number": 1
    },
    {
     "cell_type": "heading",
     "level": 2,
     "metadata": {},
     "source": "Continuous Distributions"
    },
    {
     "cell_type": "code",
     "collapsed": false,
     "input": "def uniform_pdf(x):\n    return 1 if x>=0 and x<1 else 0",
     "language": "python",
     "metadata": {},
     "outputs": [],
     "prompt_number": 2
    },
    {
     "cell_type": "code",
     "collapsed": false,
     "input": "uniform_pdf([0.3])\n",
     "language": "python",
     "metadata": {},
     "outputs": [
      {
       "metadata": {},
       "output_type": "pyout",
       "prompt_number": 3,
       "text": "0"
      }
     ],
     "prompt_number": 3
    },
    {
     "cell_type": "code",
     "collapsed": false,
     "input": "def uniform_cdf(x):\n    \"returns the probability that a uniform random variable is <= x\"\n    if x<0: return 0 # uniform random is never less than 0\n    elif x<1: return x # e.g. P(X <= 0.4) = 0.4\n    else: return 1 # uniform random is always less than 1\n",
     "language": "python",
     "metadata": {},
     "outputs": [],
     "prompt_number": 4
    },
    {
     "cell_type": "code",
     "collapsed": false,
     "input": "uniform_cdf([0.3])",
     "language": "python",
     "metadata": {},
     "outputs": [
      {
       "metadata": {},
       "output_type": "pyout",
       "prompt_number": 5,
       "text": "1"
      }
     ],
     "prompt_number": 5
    },
    {
     "cell_type": "code",
     "collapsed": false,
     "input": "uniform_cdf([3])",
     "language": "python",
     "metadata": {},
     "outputs": [
      {
       "metadata": {},
       "output_type": "pyout",
       "prompt_number": 6,
       "text": "1"
      }
     ],
     "prompt_number": 6
    },
    {
     "cell_type": "heading",
     "level": 1,
     "metadata": {},
     "source": "The Normal Distribution"
    },
    {
     "cell_type": "heading",
     "level": 5,
     "metadata": {},
     "source": "The normal distribution is the king of distributions. It is the classic bell curve\u2013shaped\ndistribution and is completely determined by two parameters: its mean (mu) and its\nstandard deviation (sigma). The mean indicates where the bell is centered, and the\nstandard deviation how \u201cwide\u201d it is."
    },
    {
     "cell_type": "code",
     "collapsed": false,
     "input": "import math\ndef normal_pdf(x,mu=0,sigma=1):\n    sqrt_two_pi=math.sqrt(2*math.pi)\n    return (math.exp(-(x-mu)**2/2/sigma**2)/(sqrt_two_pi*sigma))\n",
     "language": "python",
     "metadata": {},
     "outputs": [],
     "prompt_number": 7
    },
    {
     "cell_type": "code",
     "collapsed": false,
     "input": "import matplotlib.pyplot as plt\n\nxs = [x / 10.0 for x in range(-50, 50)]\nplt.plot(xs,[normal_pdf(x,sigma=1) for x in xs],'-',label='mu=0,sigma=1')\nplt.plot(xs,[normal_pdf(x,sigma=2) for x in xs],'--',label='mu=0,sigma=2')\nplt.plot(xs,[normal_pdf(x,sigma=0.5) for x in xs],':',label='mu=0,sigma=0.5')\nplt.plot(xs,[normal_pdf(x,mu=-1) for x in xs],'-.',label='mu=-1,sigma=1')\nplt.legend()\nplt.title(\"Various Normal pdfs\")\nplt.show()",
     "language": "python",
     "metadata": {},
     "outputs": [],
     "prompt_number": 8
    },
    {
     "cell_type": "code",
     "collapsed": false,
     "input": "def normal_cdf(x,mu=0,sigma=1):\n    return (1+math.erf((x-mu)/math.sqrt(2)/sigma))/2",
     "language": "python",
     "metadata": {},
     "outputs": [],
     "prompt_number": 9
    },
    {
     "cell_type": "code",
     "collapsed": false,
     "input": "xs = [x / 10.0 for x in range(-50, 50)]\nplt.plot(xs,[normal_cdf(x,sigma=1) for x in xs],'-',label='mu=0,sigma=1')\nplt.plot(xs,[normal_cdf(x,sigma=2) for x in xs],'--',label='mu=0,sigma=2')\nplt.plot(xs,[normal_cdf(x,sigma=0.5) for x in xs],':',label='mu=0,sigma=0.5')\nplt.plot(xs,[normal_cdf(x,mu=-1) for x in xs],'-.',label='mu=-1,sigma=1')\nplt.legend(loc=4) # bottom right\nplt.title(\"Various Normal cdfs\")\nplt.show()",
     "language": "python",
     "metadata": {},
     "outputs": [],
     "prompt_number": 10
    },
    {
     "cell_type": "code",
     "collapsed": false,
     "input": "def inverse_normal_cdf(p,mu=0,sigma=1,tolerance=0.00001):\n    \"\"\"find approximate inverse using binary search\"\"\"\n    # if not standard, compute standard and rescale\n    if mu!=0 or sigma!=1:\n        return mu+sigma*inverse_normal_cdf(p,tolerance=tolerance)\n    low_z,low_p= -10.0,0 # normal_cdf(-10) is (very close to) 0\n    hi_z, hi_p = 10.0, 1 # normal_cdf(10) is (very close to) 1\n    while hi_z-low_z>tolerance:\n        mid_z=(low_z+hi_z)/2 # consider the midpoint\n        mid_p=normal_cdf(mid_z)   # and the cdf's value there\n        if mid_p<p:\n            # midpoint is still too low, search above it\n            low_z,low_p=mid_z,mid_p\n        elif mid_p>p:\n            # midpoint is still too high, search below it\n            hi_z,hi_p=mid_z,mid_p\n        else:\n            break\n    return mid_z",
     "language": "python",
     "metadata": {},
     "outputs": [],
     "prompt_number": 11
    },
    {
     "cell_type": "heading",
     "level": 2,
     "metadata": {},
     "source": "The Central Limit Theorem"
    },
    {
     "cell_type": "heading",
     "level": 5,
     "metadata": {},
     "source": "One reason the normal distribution is so useful is the central limit theorem, which says (in\nessence) that a random variable defined as the average of a large number of independent\nand identically distributed random variables is itself approximately normally distributed"
    },
    {
     "cell_type": "code",
     "collapsed": false,
     "input": "import random",
     "language": "python",
     "metadata": {},
     "outputs": [],
     "prompt_number": 12
    },
    {
     "cell_type": "code",
     "collapsed": false,
     "input": "def bernoulli_trial(p):\n    return 1 if random.random() < p else 0",
     "language": "python",
     "metadata": {},
     "outputs": [],
     "prompt_number": 13
    },
    {
     "cell_type": "code",
     "collapsed": false,
     "input": "def binomial(n,p):\n    return sum(bernoulli_trial(p) for _ in range(n))",
     "language": "python",
     "metadata": {},
     "outputs": [],
     "prompt_number": 14
    },
    {
     "cell_type": "code",
     "collapsed": false,
     "input": "def bernoulli_trial(n,p):\n    return sum(bernoulli_trial(p) for _ in range(n))\n\nbernoulli_trial()",
     "language": "python",
     "metadata": {},
     "outputs": [
      {
       "ename": "TypeError",
       "evalue": "bernoulli_trial() takes exactly 2 arguments (0 given)",
       "output_type": "pyerr",
       "traceback": [
        "\u001b[1;31m---------------------------------------------------------------------------\u001b[0m\n\u001b[1;31mTypeError\u001b[0m                                 Traceback (most recent call last)",
        "\u001b[1;32m<ipython-input-15-d6cb41432915>\u001b[0m in \u001b[0;36m<module>\u001b[1;34m()\u001b[0m\n\u001b[0;32m      2\u001b[0m     \u001b[1;32mreturn\u001b[0m \u001b[0msum\u001b[0m\u001b[1;33m(\u001b[0m\u001b[0mbernoulli_trial\u001b[0m\u001b[1;33m(\u001b[0m\u001b[0mp\u001b[0m\u001b[1;33m)\u001b[0m \u001b[1;32mfor\u001b[0m \u001b[0m_\u001b[0m \u001b[1;32min\u001b[0m \u001b[0mrange\u001b[0m\u001b[1;33m(\u001b[0m\u001b[0mn\u001b[0m\u001b[1;33m)\u001b[0m\u001b[1;33m)\u001b[0m\u001b[1;33m\u001b[0m\u001b[0m\n\u001b[0;32m      3\u001b[0m \u001b[1;33m\u001b[0m\u001b[0m\n\u001b[1;32m----> 4\u001b[1;33m \u001b[0mbernoulli_trial\u001b[0m\u001b[1;33m(\u001b[0m\u001b[1;33m)\u001b[0m\u001b[1;33m\u001b[0m\u001b[0m\n\u001b[0m",
        "\u001b[1;31mTypeError\u001b[0m: bernoulli_trial() takes exactly 2 arguments (0 given)"
       ]
      }
     ],
     "prompt_number": 15
    },
    {
     "cell_type": "code",
     "collapsed": false,
     "input": "def make_hist(p,n,num_points):\n    data=[binomial(n,p) for _ in range(num_points)]\n    \n    histogram=Counter(data)\n    plt.bar([x-.4 for x in history.keys()],\n            [v/num_points for v in histogram.value()],\n            0.8,\n            color='.75')\n            \n    mu=p*n\n    sigma=math.sqrt(n*p*(1-p))\n    # use a line chart to show the normal approximation\n    xs = range(min(data), max(data) + 1)\n    ys = [normal_cdf(i + 0.5, mu, sigma) - normal_cdf(i - 0.5, mu, sigma)\n    for i in xs]\n    plt.plot(xs,ys)\n    plt.title(\"Binomial Distribution vs. Normal Approximation\")\n    plt.show()\n    \nmake_hist(0.75, 100, 10000)",
     "language": "python",
     "metadata": {},
     "outputs": []
    },
    {
     "cell_type": "code",
     "collapsed": false,
     "input": "",
     "language": "python",
     "metadata": {},
     "outputs": []
    }
   ],
   "metadata": {}
  }
 ]
}